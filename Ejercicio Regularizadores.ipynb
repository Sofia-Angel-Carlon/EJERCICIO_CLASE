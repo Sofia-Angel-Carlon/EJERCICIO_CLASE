{
  "nbformat": 4,
  "nbformat_minor": 0,
  "metadata": {
    "kernelspec": {
      "display_name": "Python 3",
      "language": "python",
      "name": "python3"
    },
    "language_info": {
      "codemirror_mode": {
        "name": "ipython",
        "version": 3
      },
      "file_extension": ".py",
      "mimetype": "text/x-python",
      "name": "python",
      "nbconvert_exporter": "python",
      "pygments_lexer": "ipython3",
      "version": "3.8.5"
    },
    "colab": {
      "name": "2_1_Un_primer_vistazo_a_una_Red_Neuronal.ipynb",
      "provenance": [],
      "toc_visible": true,
      "include_colab_link": true
    },
    "accelerator": "GPU",
    "gpuClass": "standard"
  },
  "cells": [
    {
      "cell_type": "markdown",
      "metadata": {
        "id": "view-in-github",
        "colab_type": "text"
      },
      "source": [
        "<a href=\"https://colab.research.google.com/github/Sofia-Angel-Carlon/EJERCICIO_CLASE/blob/main/Ejercicio%20Regularizadores.ipynb\" target=\"_parent\"><img src=\"https://colab.research.google.com/assets/colab-badge.svg\" alt=\"Open In Colab\"/></a>"
      ]
    },
    {
      "cell_type": "markdown",
      "metadata": {
        "id": "Ejg7Msp7rbkk"
      },
      "source": [
        "# Ejercicio con regularizadores"
      ]
    },
    {
      "cell_type": "code",
      "source": [
        "%tensorflow_version 2.x\n",
        "import tensorflow as tf\n",
        "from tensorflow import keras\n",
        "print(tf.keras.__version__)\n",
        "print(\"GPU Available:\", tf.config.list_physical_devices('GPU'))\n",
        "print(tf.__version__)\n",
        "from keras.datasets import mnist\n",
        "from keras import models\n",
        "from keras import layers\n",
        "import numpy as np\n",
        "import matplotlib.pyplot as plt\n",
        "from keras import regularizers"
      ],
      "metadata": {
        "id": "BSivef1i532C",
        "colab": {
          "base_uri": "https://localhost:8080/"
        },
        "outputId": "64479f26-b118-45c2-88b0-c074a8be7572"
      },
      "execution_count": 24,
      "outputs": [
        {
          "output_type": "stream",
          "name": "stdout",
          "text": [
            "Colab only includes TensorFlow 2.x; %tensorflow_version has no effect.\n",
            "2.9.0\n",
            "GPU Available: [PhysicalDevice(name='/physical_device:GPU:0', device_type='GPU')]\n",
            "2.9.2\n"
          ]
        }
      ]
    },
    {
      "cell_type": "code",
      "source": [
        "(train_images, train_labels), (test_images, test_labels) = mnist.load_data() # Descarga los datos de MNIST"
      ],
      "metadata": {
        "id": "3t3R6gU9-wUy"
      },
      "execution_count": 25,
      "outputs": []
    },
    {
      "cell_type": "code",
      "source": [
        "print(train_images.shape)"
      ],
      "metadata": {
        "colab": {
          "base_uri": "https://localhost:8080/"
        },
        "id": "gDJ3pWVK-T6l",
        "outputId": "4f149731-4cf5-4b00-e3e0-3921eaf30d2b"
      },
      "execution_count": 26,
      "outputs": [
        {
          "output_type": "stream",
          "name": "stdout",
          "text": [
            "(60000, 28, 28)\n"
          ]
        }
      ]
    },
    {
      "cell_type": "code",
      "source": [
        "# Prepara con reshape y normaliza las imágenes tanto de entrenamiento como de test\n",
        "train_images = train_images.reshape(60000, 28*28)\n",
        "test_images = test_images.reshape(10000, 28*28)\n",
        "train_images = train_images.astype('float32') / 255\n",
        "# Imagenes y etiquetas de test.\n",
        "# test_images = test_images.reshape((10000, 28 * 28))\n",
        "test_images = test_images.astype('float32') / 255"
      ],
      "metadata": {
        "id": "H6n5NeSz0U1d"
      },
      "execution_count": 27,
      "outputs": []
    },
    {
      "cell_type": "code",
      "source": [
        "# Crear un subconjunto de imágenes de entrenamiento que llamaré\n",
        "# validation_images, para hacer las validaciones, con las 10000 últimas imágenes \n",
        "# del set de datos de entrenamiento (train_images) (obviamente, lo mismo con las\n",
        "# etiquetas correspondientes -> validation_labels). Deja preparadas las 50K \n",
        "# primeras imágenes y etiquetas para entrenamiento (train_images y train_labels)\n",
        "validation_images=train_images[50000:]  \n",
        "train_images=train_images[:49999]      \n",
        "\n",
        "validation_labels=train_labels[50000:]\n",
        "train_labels=train_labels[:49999]\n",
        "\n",
        "print(validation_images.shape)\n",
        "print(validation_labels.shape)"
      ],
      "metadata": {
        "id": "NKoZGyap0XAj",
        "colab": {
          "base_uri": "https://localhost:8080/"
        },
        "outputId": "6edc819c-de73-453e-f4d2-8f37b6c26917"
      },
      "execution_count": 28,
      "outputs": [
        {
          "output_type": "stream",
          "name": "stdout",
          "text": [
            "(10000, 784)\n",
            "(10000,)\n"
          ]
        }
      ]
    },
    {
      "cell_type": "code",
      "source": [
        "def crea_modelo(regularizador):\n",
        "  modelo = models.Sequential()\n",
        "  if(regularizador==0):\n",
        "    modelo.add(layers.Dense(512, activation='relu', input_shape=(28*28,)))\n",
        "  elif(regularizador==1):\n",
        "    modelo.add(layers.Dense(512, kernel_regularizer=regularizers.l1(0.001), activation='relu', input_shape=(28*28,)))\n",
        "  elif(regularizador==2):\n",
        "    modelo.add(layers.Dense(512, kernel_regularizer=regularizers.l2(0.001), activation='relu', input_shape=(28*28,)))\n",
        "  elif(regularizador==3):\n",
        "    modelo.add(layers.Dense(512, kernel_regularizer=regularizers.l1_l2(l1=0.001, l2=0.001), activation='relu', input_shape=(28*28,)))\n",
        "  elif(regularizador==4):\n",
        "    modelo.add(layers.Dense(512, activation='relu', input_shape=(28*28,)))\n",
        "    modelo.add(layers.Dropout(0.5))\n",
        "  else:\n",
        "    print(\"Error\")\n",
        "  \n",
        "  modelo.add(layers.Dense(10, activation='softmax'))\n",
        "  modelo.summary()\n",
        "  return modelo\n",
        "\n",
        "  # Define una función que recibe un número del 0 al 4 que creará:\n",
        "  # un modelo secuencial con una capa de entrada densa de 512 neuronas\n",
        "  # con activación relu y la capa de salida que le corresponda según el problema\n",
        "  # Ahora, en función del número del regularizador:\n",
        "  # Si es 0, no mete ningún regularizador\n",
        "  # Si es 1, mete un regularizador de tipo l1 y valor 0.001\n",
        "  # Si es 2, mete un regularizador de tipo l2 y valor 0.001\n",
        "  # Si es 3, mete un regularizador de tipo l1_l2 y valor 0.001 para ambos\n",
        "  # Si es 4, mete un Dropout del 50% después de la primera capa densa\n",
        "  # Si es distinto que estos valores, escribe el error y retorna\n",
        "  # Al final, esta función pinta el summary del modelo y retorna el modelo creado"
      ],
      "metadata": {
        "id": "6JnVLVfsAfkh"
      },
      "execution_count": 29,
      "outputs": []
    },
    {
      "cell_type": "code",
      "source": [
        "def compila_modelo(modelo): \n",
        "  modelo.compile(optimizer='rmsprop', # Optimizador 'rmsprop' (Stocastic Gradient Descendent)\n",
        "                loss='sparse_categorical_crossentropy', # Función de pérdida\n",
        "                metrics=['accuracy']) # Mética de Precisión\n",
        "  return modelo \n",
        "  # Define una función que recibe un modelo, lo compila con un optimizador\n",
        "  # 'rmsprop', con una función de pérdida 'sparse_categorical_crossentropy' y\n",
        "  # una métrica de precisión. La función retorna el modelo"
      ],
      "metadata": {
        "id": "qKyJ8KOT0aFt"
      },
      "execution_count": 30,
      "outputs": []
    },
    {
      "cell_type": "code",
      "source": [
        "def entrena_modelo(modelo):\n",
        "  history = modelo.fit(train_images, train_labels, validation_data=(validation_images, validation_labels), epochs=30, batch_size=128)\n",
        "  return history\n",
        "\n",
        "  # Define una función que entrena el modelo que se le pasa por parámetro,\n",
        "  # con las imágenes y etiquetas de entrenamiento, con 30 iteraciones y 128\n",
        "  # de tamaño de minilote y con el validation_data creado más arriba.\n",
        "  # Esta función devuelve un history"
      ],
      "metadata": {
        "id": "_yQ7SpOt0cBp"
      },
      "execution_count": 31,
      "outputs": []
    },
    {
      "cell_type": "code",
      "source": [
        "def pinta_perdida_entrenamiento_validacion(historia):\n",
        "  history_dict = historia.history\n",
        "  acc = historia.history['accuracy']\n",
        "  val_acc = historia.history['val_accuracy']\n",
        "  loss = historia.history['loss']\n",
        "  val_loss = historia.history['val_loss']\n",
        "  epochs = range(1, len(acc) + 1)\n",
        "  # \"bo\" es para \"punto azun\"\n",
        "  plt.plot(epochs, loss, 'bo', label='Pérdida de Entrenamiento')\n",
        "  # \"b\" es para \"linea continua azul\"\n",
        "  plt.plot(epochs, val_loss, 'b', label='Pérdida de Validación')\n",
        "  plt.title('Pérdida de Entrenamiento y Validación')\n",
        "  plt.xlabel('Epochs')\n",
        "  plt.ylabel('Loss')\n",
        "  plt.legend()\n",
        "  plt.show()"
      ],
      "metadata": {
        "id": "bJrRNc4WwPN2"
      },
      "execution_count": 32,
      "outputs": []
    },
    {
      "cell_type": "code",
      "source": [
        "def pinta_precision_entrenamiento_validacion(historia):\n",
        "  history_dict = historia.history\n",
        "  acc = historia.history['accuracy']\n",
        "  val_acc = historia.history['val_accuracy']\n",
        "  loss = historia.history['loss']\n",
        "  val_loss = historia.history['val_loss']\n",
        "  plt.clf()   # Limpia la figura\n",
        "  acc_values = history_dict['accuracy']\n",
        "  val_acc_values = history_dict['val_accuracy']\n",
        "  epochs = range(1, len(acc) + 1)\n",
        "  plt.plot(epochs, acc, 'bo', label='Precisión de Entrenamiento')\n",
        "  plt.plot(epochs, val_acc, 'b', label='Precisión de Validación')\n",
        "  plt.title('Precisión de Entrenamiento y Validación')\n",
        "  plt.xlabel('Epochs')\n",
        "  plt.ylabel('Loss')\n",
        "  plt.legend()\n",
        "  plt.show()"
      ],
      "metadata": {
        "id": "Mafxp6D3wYQx"
      },
      "execution_count": 33,
      "outputs": []
    },
    {
      "cell_type": "markdown",
      "source": [
        "## Una vez definidas todas las funciones anteriores, ejecuta las siguientes llamadas a dichas funciones y deduce que está pasando y, para este contexto, que es lo que mejor está funcionando"
      ],
      "metadata": {
        "id": "6nnQYysYA3_T"
      }
    },
    {
      "cell_type": "markdown",
      "source": [
        "### Caso 0, sin regularizadores"
      ],
      "metadata": {
        "id": "OrGwDgaFBax4"
      }
    },
    {
      "cell_type": "code",
      "source": [
        "network0 = crea_modelo(0)"
      ],
      "metadata": {
        "id": "uXvhlXg79Zi9",
        "colab": {
          "base_uri": "https://localhost:8080/"
        },
        "outputId": "4f2b0dce-c897-4ee1-ae08-a66e5b28fefe"
      },
      "execution_count": 34,
      "outputs": [
        {
          "output_type": "stream",
          "name": "stdout",
          "text": [
            "Model: \"sequential_4\"\n",
            "_________________________________________________________________\n",
            " Layer (type)                Output Shape              Param #   \n",
            "=================================================================\n",
            " dense_8 (Dense)             (None, 512)               401920    \n",
            "                                                                 \n",
            " dense_9 (Dense)             (None, 10)                5130      \n",
            "                                                                 \n",
            "=================================================================\n",
            "Total params: 407,050\n",
            "Trainable params: 407,050\n",
            "Non-trainable params: 0\n",
            "_________________________________________________________________\n"
          ]
        }
      ]
    },
    {
      "cell_type": "code",
      "source": [
        "network0 = compila_modelo(network0)"
      ],
      "metadata": {
        "id": "Ff0HC3NR9ez8"
      },
      "execution_count": 35,
      "outputs": []
    },
    {
      "cell_type": "code",
      "source": [
        "historia0 = entrena_modelo(network0)"
      ],
      "metadata": {
        "id": "x9zQDOlw9g6V",
        "colab": {
          "base_uri": "https://localhost:8080/"
        },
        "outputId": "d3ba2e6a-87c4-4f62-8646-b94a87ee29b0"
      },
      "execution_count": 36,
      "outputs": [
        {
          "output_type": "stream",
          "name": "stdout",
          "text": [
            "Epoch 1/30\n",
            "391/391 [==============================] - 2s 4ms/step - loss: 0.2880 - accuracy: 0.9153 - val_loss: 0.1396 - val_accuracy: 0.9616\n",
            "Epoch 2/30\n",
            "391/391 [==============================] - 1s 3ms/step - loss: 0.1181 - accuracy: 0.9654 - val_loss: 0.1132 - val_accuracy: 0.9691\n",
            "Epoch 3/30\n",
            "391/391 [==============================] - 1s 3ms/step - loss: 0.0773 - accuracy: 0.9771 - val_loss: 0.0849 - val_accuracy: 0.9754\n",
            "Epoch 4/30\n",
            "391/391 [==============================] - 1s 4ms/step - loss: 0.0553 - accuracy: 0.9834 - val_loss: 0.0793 - val_accuracy: 0.9754\n",
            "Epoch 5/30\n",
            "391/391 [==============================] - 1s 4ms/step - loss: 0.0409 - accuracy: 0.9876 - val_loss: 0.0711 - val_accuracy: 0.9791\n",
            "Epoch 6/30\n",
            "391/391 [==============================] - 1s 3ms/step - loss: 0.0311 - accuracy: 0.9909 - val_loss: 0.0801 - val_accuracy: 0.9776\n",
            "Epoch 7/30\n",
            "391/391 [==============================] - 1s 3ms/step - loss: 0.0234 - accuracy: 0.9934 - val_loss: 0.0691 - val_accuracy: 0.9811\n",
            "Epoch 8/30\n",
            "391/391 [==============================] - 1s 3ms/step - loss: 0.0178 - accuracy: 0.9950 - val_loss: 0.0793 - val_accuracy: 0.9804\n",
            "Epoch 9/30\n",
            "391/391 [==============================] - 1s 3ms/step - loss: 0.0134 - accuracy: 0.9964 - val_loss: 0.0841 - val_accuracy: 0.9802\n",
            "Epoch 10/30\n",
            "391/391 [==============================] - 1s 4ms/step - loss: 0.0108 - accuracy: 0.9968 - val_loss: 0.0877 - val_accuracy: 0.9792\n",
            "Epoch 11/30\n",
            "391/391 [==============================] - 1s 4ms/step - loss: 0.0078 - accuracy: 0.9976 - val_loss: 0.0878 - val_accuracy: 0.9805\n",
            "Epoch 12/30\n",
            "391/391 [==============================] - 1s 4ms/step - loss: 0.0058 - accuracy: 0.9985 - val_loss: 0.0903 - val_accuracy: 0.9804\n",
            "Epoch 13/30\n",
            "391/391 [==============================] - 1s 3ms/step - loss: 0.0045 - accuracy: 0.9988 - val_loss: 0.0914 - val_accuracy: 0.9805\n",
            "Epoch 14/30\n",
            "391/391 [==============================] - 1s 3ms/step - loss: 0.0040 - accuracy: 0.9989 - val_loss: 0.0940 - val_accuracy: 0.9799\n",
            "Epoch 15/30\n",
            "391/391 [==============================] - 1s 3ms/step - loss: 0.0029 - accuracy: 0.9994 - val_loss: 0.0987 - val_accuracy: 0.9806\n",
            "Epoch 16/30\n",
            "391/391 [==============================] - 1s 4ms/step - loss: 0.0019 - accuracy: 0.9995 - val_loss: 0.1000 - val_accuracy: 0.9819\n",
            "Epoch 17/30\n",
            "391/391 [==============================] - 1s 3ms/step - loss: 0.0018 - accuracy: 0.9995 - val_loss: 0.1050 - val_accuracy: 0.9819\n",
            "Epoch 18/30\n",
            "391/391 [==============================] - 1s 4ms/step - loss: 0.0012 - accuracy: 0.9998 - val_loss: 0.1113 - val_accuracy: 0.9815\n",
            "Epoch 19/30\n",
            "391/391 [==============================] - 1s 4ms/step - loss: 0.0010 - accuracy: 0.9997 - val_loss: 0.1080 - val_accuracy: 0.9816\n",
            "Epoch 20/30\n",
            "391/391 [==============================] - 1s 4ms/step - loss: 0.0010 - accuracy: 0.9997 - val_loss: 0.1094 - val_accuracy: 0.9830\n",
            "Epoch 21/30\n",
            "391/391 [==============================] - 1s 3ms/step - loss: 7.4617e-04 - accuracy: 0.9998 - val_loss: 0.1188 - val_accuracy: 0.9821\n",
            "Epoch 22/30\n",
            "391/391 [==============================] - 1s 3ms/step - loss: 6.2799e-04 - accuracy: 0.9998 - val_loss: 0.1207 - val_accuracy: 0.9835\n",
            "Epoch 23/30\n",
            "391/391 [==============================] - 1s 4ms/step - loss: 4.6761e-04 - accuracy: 0.9999 - val_loss: 0.1256 - val_accuracy: 0.9827\n",
            "Epoch 24/30\n",
            "391/391 [==============================] - 1s 3ms/step - loss: 3.5417e-04 - accuracy: 0.9999 - val_loss: 0.1276 - val_accuracy: 0.9826\n",
            "Epoch 25/30\n",
            "391/391 [==============================] - 1s 4ms/step - loss: 3.3618e-04 - accuracy: 0.9999 - val_loss: 0.1334 - val_accuracy: 0.9812\n",
            "Epoch 26/30\n",
            "391/391 [==============================] - 1s 4ms/step - loss: 2.6336e-04 - accuracy: 0.9999 - val_loss: 0.1314 - val_accuracy: 0.9829\n",
            "Epoch 27/30\n",
            "391/391 [==============================] - 1s 3ms/step - loss: 1.6206e-04 - accuracy: 0.9999 - val_loss: 0.1413 - val_accuracy: 0.9819\n",
            "Epoch 28/30\n",
            "391/391 [==============================] - 1s 3ms/step - loss: 1.6549e-04 - accuracy: 1.0000 - val_loss: 0.1426 - val_accuracy: 0.9815\n",
            "Epoch 29/30\n",
            "391/391 [==============================] - 1s 3ms/step - loss: 1.6868e-04 - accuracy: 1.0000 - val_loss: 0.1377 - val_accuracy: 0.9824\n",
            "Epoch 30/30\n",
            "391/391 [==============================] - 2s 4ms/step - loss: 7.9290e-05 - accuracy: 1.0000 - val_loss: 0.1367 - val_accuracy: 0.9829\n"
          ]
        }
      ]
    },
    {
      "cell_type": "markdown",
      "source": [
        "### Caso 1: Con regularizador l1"
      ],
      "metadata": {
        "id": "pw6iBGO5Bg8J"
      }
    },
    {
      "cell_type": "code",
      "source": [
        "network1 = crea_modelo(1)"
      ],
      "metadata": {
        "id": "D6JPtw5zCz-1",
        "colab": {
          "base_uri": "https://localhost:8080/"
        },
        "outputId": "ad300a82-3081-475f-978f-f7d8d00e7920"
      },
      "execution_count": 37,
      "outputs": [
        {
          "output_type": "stream",
          "name": "stdout",
          "text": [
            "Model: \"sequential_5\"\n",
            "_________________________________________________________________\n",
            " Layer (type)                Output Shape              Param #   \n",
            "=================================================================\n",
            " dense_10 (Dense)            (None, 512)               401920    \n",
            "                                                                 \n",
            " dense_11 (Dense)            (None, 10)                5130      \n",
            "                                                                 \n",
            "=================================================================\n",
            "Total params: 407,050\n",
            "Trainable params: 407,050\n",
            "Non-trainable params: 0\n",
            "_________________________________________________________________\n"
          ]
        }
      ]
    },
    {
      "cell_type": "code",
      "source": [
        "network1 = compila_modelo(network1)"
      ],
      "metadata": {
        "id": "zL3Gp7wvFRq3"
      },
      "execution_count": 38,
      "outputs": []
    },
    {
      "cell_type": "code",
      "source": [
        "historia1 = entrena_modelo(network1)"
      ],
      "metadata": {
        "id": "G2FG1Z4xFW72",
        "colab": {
          "base_uri": "https://localhost:8080/"
        },
        "outputId": "7ffaef7f-bc31-44dc-ad41-56e97c8a722d"
      },
      "execution_count": 39,
      "outputs": [
        {
          "output_type": "stream",
          "name": "stdout",
          "text": [
            "Epoch 1/30\n",
            "391/391 [==============================] - 2s 4ms/step - loss: 2.1359 - accuracy: 0.8450 - val_loss: 1.0143 - val_accuracy: 0.8771\n",
            "Epoch 2/30\n",
            "391/391 [==============================] - 2s 4ms/step - loss: 0.9613 - accuracy: 0.8796 - val_loss: 0.8772 - val_accuracy: 0.8967\n",
            "Epoch 3/30\n",
            "391/391 [==============================] - 2s 5ms/step - loss: 0.8401 - accuracy: 0.8992 - val_loss: 0.7866 - val_accuracy: 0.9113\n",
            "Epoch 4/30\n",
            "391/391 [==============================] - 1s 4ms/step - loss: 0.7661 - accuracy: 0.9144 - val_loss: 0.6971 - val_accuracy: 0.9314\n",
            "Epoch 5/30\n",
            "391/391 [==============================] - 1s 3ms/step - loss: 0.7132 - accuracy: 0.9235 - val_loss: 0.6611 - val_accuracy: 0.9382\n",
            "Epoch 6/30\n",
            "391/391 [==============================] - 2s 4ms/step - loss: 0.6738 - accuracy: 0.9303 - val_loss: 0.6592 - val_accuracy: 0.9343\n",
            "Epoch 7/30\n",
            "391/391 [==============================] - 1s 4ms/step - loss: 0.6467 - accuracy: 0.9349 - val_loss: 0.6375 - val_accuracy: 0.9318\n",
            "Epoch 8/30\n",
            "391/391 [==============================] - 2s 4ms/step - loss: 0.6206 - accuracy: 0.9394 - val_loss: 0.6050 - val_accuracy: 0.9436\n",
            "Epoch 9/30\n",
            "391/391 [==============================] - 2s 4ms/step - loss: 0.6031 - accuracy: 0.9429 - val_loss: 0.5845 - val_accuracy: 0.9472\n",
            "Epoch 10/30\n",
            "391/391 [==============================] - 2s 4ms/step - loss: 0.5905 - accuracy: 0.9438 - val_loss: 0.5641 - val_accuracy: 0.9516\n",
            "Epoch 11/30\n",
            "391/391 [==============================] - 1s 3ms/step - loss: 0.5780 - accuracy: 0.9464 - val_loss: 0.5619 - val_accuracy: 0.9528\n",
            "Epoch 12/30\n",
            "391/391 [==============================] - 1s 3ms/step - loss: 0.5681 - accuracy: 0.9469 - val_loss: 0.5434 - val_accuracy: 0.9574\n",
            "Epoch 13/30\n",
            "391/391 [==============================] - 1s 4ms/step - loss: 0.5593 - accuracy: 0.9479 - val_loss: 0.5499 - val_accuracy: 0.9525\n",
            "Epoch 14/30\n",
            "391/391 [==============================] - 2s 4ms/step - loss: 0.5502 - accuracy: 0.9498 - val_loss: 0.5494 - val_accuracy: 0.9507\n",
            "Epoch 15/30\n",
            "391/391 [==============================] - 1s 3ms/step - loss: 0.5432 - accuracy: 0.9515 - val_loss: 0.5389 - val_accuracy: 0.9510\n",
            "Epoch 16/30\n",
            "391/391 [==============================] - 1s 4ms/step - loss: 0.5388 - accuracy: 0.9508 - val_loss: 0.5315 - val_accuracy: 0.9556\n",
            "Epoch 17/30\n",
            "391/391 [==============================] - 2s 4ms/step - loss: 0.5313 - accuracy: 0.9531 - val_loss: 0.5145 - val_accuracy: 0.9601\n",
            "Epoch 18/30\n",
            "391/391 [==============================] - 2s 4ms/step - loss: 0.5257 - accuracy: 0.9533 - val_loss: 0.5157 - val_accuracy: 0.9574\n",
            "Epoch 19/30\n",
            "391/391 [==============================] - 2s 4ms/step - loss: 0.5226 - accuracy: 0.9536 - val_loss: 0.4936 - val_accuracy: 0.9614\n",
            "Epoch 20/30\n",
            "391/391 [==============================] - 1s 4ms/step - loss: 0.5167 - accuracy: 0.9554 - val_loss: 0.4976 - val_accuracy: 0.9609\n",
            "Epoch 21/30\n",
            "391/391 [==============================] - 1s 3ms/step - loss: 0.5131 - accuracy: 0.9561 - val_loss: 0.5201 - val_accuracy: 0.9562\n",
            "Epoch 22/30\n",
            "391/391 [==============================] - 2s 4ms/step - loss: 0.5099 - accuracy: 0.9560 - val_loss: 0.4888 - val_accuracy: 0.9632\n",
            "Epoch 23/30\n",
            "391/391 [==============================] - 1s 4ms/step - loss: 0.5051 - accuracy: 0.9569 - val_loss: 0.4953 - val_accuracy: 0.9587\n",
            "Epoch 24/30\n",
            "391/391 [==============================] - 2s 4ms/step - loss: 0.5027 - accuracy: 0.9568 - val_loss: 0.5169 - val_accuracy: 0.9578\n",
            "Epoch 25/30\n",
            "391/391 [==============================] - 1s 4ms/step - loss: 0.4990 - accuracy: 0.9577 - val_loss: 0.4943 - val_accuracy: 0.9582\n",
            "Epoch 26/30\n",
            "391/391 [==============================] - 1s 4ms/step - loss: 0.4964 - accuracy: 0.9578 - val_loss: 0.5119 - val_accuracy: 0.9565\n",
            "Epoch 27/30\n",
            "391/391 [==============================] - 1s 3ms/step - loss: 0.4916 - accuracy: 0.9589 - val_loss: 0.4853 - val_accuracy: 0.9598\n",
            "Epoch 28/30\n",
            "391/391 [==============================] - 1s 3ms/step - loss: 0.4913 - accuracy: 0.9588 - val_loss: 0.4802 - val_accuracy: 0.9610\n",
            "Epoch 29/30\n",
            "391/391 [==============================] - 1s 4ms/step - loss: 0.4876 - accuracy: 0.9590 - val_loss: 0.4932 - val_accuracy: 0.9603\n",
            "Epoch 30/30\n",
            "391/391 [==============================] - 1s 4ms/step - loss: 0.4860 - accuracy: 0.9592 - val_loss: 0.4735 - val_accuracy: 0.9629\n"
          ]
        }
      ]
    },
    {
      "cell_type": "markdown",
      "source": [
        "### Caso 2: Con regularizador l2"
      ],
      "metadata": {
        "id": "hklwKNlMBzya"
      }
    },
    {
      "cell_type": "code",
      "source": [
        "network2 = crea_modelo(2)"
      ],
      "metadata": {
        "id": "tjIs0FziG5Ja",
        "colab": {
          "base_uri": "https://localhost:8080/"
        },
        "outputId": "d52d7d7b-9a21-4e2a-b413-7eaac20238dc"
      },
      "execution_count": 40,
      "outputs": [
        {
          "output_type": "stream",
          "name": "stdout",
          "text": [
            "Model: \"sequential_6\"\n",
            "_________________________________________________________________\n",
            " Layer (type)                Output Shape              Param #   \n",
            "=================================================================\n",
            " dense_12 (Dense)            (None, 512)               401920    \n",
            "                                                                 \n",
            " dense_13 (Dense)            (None, 10)                5130      \n",
            "                                                                 \n",
            "=================================================================\n",
            "Total params: 407,050\n",
            "Trainable params: 407,050\n",
            "Non-trainable params: 0\n",
            "_________________________________________________________________\n"
          ]
        }
      ]
    },
    {
      "cell_type": "code",
      "source": [
        "network2 = compila_modelo(network2)"
      ],
      "metadata": {
        "id": "UCdA0K_qyTUq"
      },
      "execution_count": 41,
      "outputs": []
    },
    {
      "cell_type": "code",
      "source": [
        "historia2 = entrena_modelo(network2)"
      ],
      "metadata": {
        "id": "WSuomx5oybpu",
        "colab": {
          "base_uri": "https://localhost:8080/"
        },
        "outputId": "6f347221-619f-4e03-9bd9-0ba6fe46bd19"
      },
      "execution_count": 42,
      "outputs": [
        {
          "output_type": "stream",
          "name": "stdout",
          "text": [
            "Epoch 1/30\n",
            "391/391 [==============================] - 2s 4ms/step - loss: 0.5269 - accuracy: 0.9124 - val_loss: 0.2887 - val_accuracy: 0.9571\n",
            "Epoch 2/30\n",
            "391/391 [==============================] - 2s 4ms/step - loss: 0.2618 - accuracy: 0.9552 - val_loss: 0.2480 - val_accuracy: 0.9536\n",
            "Epoch 3/30\n",
            "391/391 [==============================] - 2s 4ms/step - loss: 0.2098 - accuracy: 0.9630 - val_loss: 0.2066 - val_accuracy: 0.9626\n",
            "Epoch 4/30\n",
            "391/391 [==============================] - 2s 6ms/step - loss: 0.1870 - accuracy: 0.9664 - val_loss: 0.1779 - val_accuracy: 0.9704\n",
            "Epoch 5/30\n",
            "391/391 [==============================] - 2s 5ms/step - loss: 0.1735 - accuracy: 0.9697 - val_loss: 0.1673 - val_accuracy: 0.9720\n",
            "Epoch 6/30\n",
            "391/391 [==============================] - 1s 4ms/step - loss: 0.1639 - accuracy: 0.9718 - val_loss: 0.1772 - val_accuracy: 0.9690\n",
            "Epoch 7/30\n",
            "391/391 [==============================] - 1s 4ms/step - loss: 0.1574 - accuracy: 0.9718 - val_loss: 0.1732 - val_accuracy: 0.9689\n",
            "Epoch 8/30\n",
            "391/391 [==============================] - 2s 4ms/step - loss: 0.1514 - accuracy: 0.9741 - val_loss: 0.1555 - val_accuracy: 0.9745\n",
            "Epoch 9/30\n",
            "391/391 [==============================] - 1s 3ms/step - loss: 0.1461 - accuracy: 0.9751 - val_loss: 0.1662 - val_accuracy: 0.9697\n",
            "Epoch 10/30\n",
            "391/391 [==============================] - 1s 4ms/step - loss: 0.1416 - accuracy: 0.9756 - val_loss: 0.1579 - val_accuracy: 0.9723\n",
            "Epoch 11/30\n",
            "391/391 [==============================] - 2s 4ms/step - loss: 0.1395 - accuracy: 0.9763 - val_loss: 0.1492 - val_accuracy: 0.9719\n",
            "Epoch 12/30\n",
            "391/391 [==============================] - 2s 4ms/step - loss: 0.1364 - accuracy: 0.9774 - val_loss: 0.1733 - val_accuracy: 0.9688\n",
            "Epoch 13/30\n",
            "391/391 [==============================] - 1s 4ms/step - loss: 0.1336 - accuracy: 0.9777 - val_loss: 0.1469 - val_accuracy: 0.9750\n",
            "Epoch 14/30\n",
            "391/391 [==============================] - 2s 4ms/step - loss: 0.1326 - accuracy: 0.9772 - val_loss: 0.1429 - val_accuracy: 0.9736\n",
            "Epoch 15/30\n",
            "391/391 [==============================] - 2s 4ms/step - loss: 0.1278 - accuracy: 0.9786 - val_loss: 0.1483 - val_accuracy: 0.9736\n",
            "Epoch 16/30\n",
            "391/391 [==============================] - 2s 4ms/step - loss: 0.1279 - accuracy: 0.9787 - val_loss: 0.1431 - val_accuracy: 0.9734\n",
            "Epoch 17/30\n",
            "391/391 [==============================] - 2s 4ms/step - loss: 0.1259 - accuracy: 0.9782 - val_loss: 0.1421 - val_accuracy: 0.9761\n",
            "Epoch 18/30\n",
            "391/391 [==============================] - 2s 4ms/step - loss: 0.1234 - accuracy: 0.9799 - val_loss: 0.1628 - val_accuracy: 0.9677\n",
            "Epoch 19/30\n",
            "391/391 [==============================] - 2s 4ms/step - loss: 0.1210 - accuracy: 0.9800 - val_loss: 0.1353 - val_accuracy: 0.9767\n",
            "Epoch 20/30\n",
            "391/391 [==============================] - 1s 4ms/step - loss: 0.1201 - accuracy: 0.9799 - val_loss: 0.1442 - val_accuracy: 0.9742\n",
            "Epoch 21/30\n",
            "391/391 [==============================] - 1s 3ms/step - loss: 0.1188 - accuracy: 0.9806 - val_loss: 0.1518 - val_accuracy: 0.9713\n",
            "Epoch 22/30\n",
            "391/391 [==============================] - 1s 4ms/step - loss: 0.1172 - accuracy: 0.9802 - val_loss: 0.1533 - val_accuracy: 0.9713\n",
            "Epoch 23/30\n",
            "391/391 [==============================] - 1s 3ms/step - loss: 0.1157 - accuracy: 0.9811 - val_loss: 0.1527 - val_accuracy: 0.9697\n",
            "Epoch 24/30\n",
            "391/391 [==============================] - 1s 3ms/step - loss: 0.1133 - accuracy: 0.9810 - val_loss: 0.1386 - val_accuracy: 0.9747\n",
            "Epoch 25/30\n",
            "391/391 [==============================] - 1s 3ms/step - loss: 0.1141 - accuracy: 0.9814 - val_loss: 0.1373 - val_accuracy: 0.9756\n",
            "Epoch 26/30\n",
            "391/391 [==============================] - 1s 4ms/step - loss: 0.1135 - accuracy: 0.9811 - val_loss: 0.1358 - val_accuracy: 0.9742\n",
            "Epoch 27/30\n",
            "391/391 [==============================] - 1s 4ms/step - loss: 0.1125 - accuracy: 0.9812 - val_loss: 0.1345 - val_accuracy: 0.9750\n",
            "Epoch 28/30\n",
            "391/391 [==============================] - 1s 4ms/step - loss: 0.1111 - accuracy: 0.9817 - val_loss: 0.1588 - val_accuracy: 0.9669\n",
            "Epoch 29/30\n",
            "391/391 [==============================] - 2s 4ms/step - loss: 0.1106 - accuracy: 0.9810 - val_loss: 0.1245 - val_accuracy: 0.9779\n",
            "Epoch 30/30\n",
            "391/391 [==============================] - 1s 4ms/step - loss: 0.1077 - accuracy: 0.9823 - val_loss: 0.1273 - val_accuracy: 0.9772\n"
          ]
        }
      ]
    },
    {
      "cell_type": "markdown",
      "source": [
        "### Caso 3: Con regularizador l1_l2"
      ],
      "metadata": {
        "id": "692oWz8oB82n"
      }
    },
    {
      "cell_type": "code",
      "source": [
        "network3 = crea_modelo(3)"
      ],
      "metadata": {
        "id": "5fdxkjoKzFcu",
        "colab": {
          "base_uri": "https://localhost:8080/"
        },
        "outputId": "6e95fba5-ee18-4e15-ced5-cef1b7d0f6b6"
      },
      "execution_count": 43,
      "outputs": [
        {
          "output_type": "stream",
          "name": "stdout",
          "text": [
            "Model: \"sequential_7\"\n",
            "_________________________________________________________________\n",
            " Layer (type)                Output Shape              Param #   \n",
            "=================================================================\n",
            " dense_14 (Dense)            (None, 512)               401920    \n",
            "                                                                 \n",
            " dense_15 (Dense)            (None, 10)                5130      \n",
            "                                                                 \n",
            "=================================================================\n",
            "Total params: 407,050\n",
            "Trainable params: 407,050\n",
            "Non-trainable params: 0\n",
            "_________________________________________________________________\n"
          ]
        }
      ]
    },
    {
      "cell_type": "code",
      "source": [
        "network3 = compila_modelo(network3)"
      ],
      "metadata": {
        "id": "VJzs9A2yzPhx"
      },
      "execution_count": 44,
      "outputs": []
    },
    {
      "cell_type": "code",
      "source": [
        "historia3 = entrena_modelo(network3)"
      ],
      "metadata": {
        "id": "1JCUbcCQzY6E",
        "colab": {
          "base_uri": "https://localhost:8080/"
        },
        "outputId": "4d60438b-6125-4469-8636-cd16f811aa12"
      },
      "execution_count": 45,
      "outputs": [
        {
          "output_type": "stream",
          "name": "stdout",
          "text": [
            "Epoch 1/30\n",
            "391/391 [==============================] - 3s 5ms/step - loss: 2.1558 - accuracy: 0.8424 - val_loss: 0.9917 - val_accuracy: 0.8932\n",
            "Epoch 2/30\n",
            "391/391 [==============================] - 2s 4ms/step - loss: 0.9831 - accuracy: 0.8749 - val_loss: 0.8914 - val_accuracy: 0.8956\n",
            "Epoch 3/30\n",
            "391/391 [==============================] - 1s 4ms/step - loss: 0.8606 - accuracy: 0.8977 - val_loss: 0.7830 - val_accuracy: 0.9238\n",
            "Epoch 4/30\n",
            "391/391 [==============================] - 2s 4ms/step - loss: 0.7888 - accuracy: 0.9114 - val_loss: 0.7197 - val_accuracy: 0.9318\n",
            "Epoch 5/30\n",
            "391/391 [==============================] - 2s 4ms/step - loss: 0.7343 - accuracy: 0.9213 - val_loss: 0.6904 - val_accuracy: 0.9354\n",
            "Epoch 6/30\n",
            "391/391 [==============================] - 2s 4ms/step - loss: 0.6968 - accuracy: 0.9273 - val_loss: 0.6784 - val_accuracy: 0.9306\n",
            "Epoch 7/30\n",
            "391/391 [==============================] - 2s 4ms/step - loss: 0.6658 - accuracy: 0.9321 - val_loss: 0.6490 - val_accuracy: 0.9389\n",
            "Epoch 8/30\n",
            "391/391 [==============================] - 1s 4ms/step - loss: 0.6432 - accuracy: 0.9353 - val_loss: 0.6067 - val_accuracy: 0.9483\n",
            "Epoch 9/30\n",
            "391/391 [==============================] - 1s 4ms/step - loss: 0.6243 - accuracy: 0.9391 - val_loss: 0.5853 - val_accuracy: 0.9513\n",
            "Epoch 10/30\n",
            "391/391 [==============================] - 1s 3ms/step - loss: 0.6091 - accuracy: 0.9419 - val_loss: 0.5735 - val_accuracy: 0.9577\n",
            "Epoch 11/30\n",
            "391/391 [==============================] - 1s 4ms/step - loss: 0.5967 - accuracy: 0.9432 - val_loss: 0.5786 - val_accuracy: 0.9499\n",
            "Epoch 12/30\n",
            "391/391 [==============================] - 2s 5ms/step - loss: 0.5859 - accuracy: 0.9452 - val_loss: 0.5751 - val_accuracy: 0.9512\n",
            "Epoch 13/30\n",
            "391/391 [==============================] - 2s 4ms/step - loss: 0.5771 - accuracy: 0.9465 - val_loss: 0.5603 - val_accuracy: 0.9516\n",
            "Epoch 14/30\n",
            "391/391 [==============================] - 2s 4ms/step - loss: 0.5683 - accuracy: 0.9481 - val_loss: 0.5502 - val_accuracy: 0.9536\n",
            "Epoch 15/30\n",
            "391/391 [==============================] - 2s 4ms/step - loss: 0.5595 - accuracy: 0.9495 - val_loss: 0.6323 - val_accuracy: 0.9310\n",
            "Epoch 16/30\n",
            "391/391 [==============================] - 2s 4ms/step - loss: 0.5524 - accuracy: 0.9506 - val_loss: 0.5320 - val_accuracy: 0.9579\n",
            "Epoch 17/30\n",
            "391/391 [==============================] - 1s 4ms/step - loss: 0.5441 - accuracy: 0.9510 - val_loss: 0.5362 - val_accuracy: 0.9550\n",
            "Epoch 18/30\n",
            "391/391 [==============================] - 2s 4ms/step - loss: 0.5391 - accuracy: 0.9525 - val_loss: 0.5020 - val_accuracy: 0.9628\n",
            "Epoch 19/30\n",
            "391/391 [==============================] - 2s 5ms/step - loss: 0.5332 - accuracy: 0.9533 - val_loss: 0.5138 - val_accuracy: 0.9611\n",
            "Epoch 20/30\n",
            "391/391 [==============================] - 2s 5ms/step - loss: 0.5266 - accuracy: 0.9546 - val_loss: 0.5061 - val_accuracy: 0.9607\n",
            "Epoch 21/30\n",
            "391/391 [==============================] - 2s 4ms/step - loss: 0.5224 - accuracy: 0.9553 - val_loss: 0.5393 - val_accuracy: 0.9511\n",
            "Epoch 22/30\n",
            "391/391 [==============================] - 2s 5ms/step - loss: 0.5190 - accuracy: 0.9549 - val_loss: 0.5330 - val_accuracy: 0.9552\n",
            "Epoch 23/30\n",
            "391/391 [==============================] - 1s 4ms/step - loss: 0.5157 - accuracy: 0.9564 - val_loss: 0.5330 - val_accuracy: 0.9509\n",
            "Epoch 24/30\n",
            "391/391 [==============================] - 1s 4ms/step - loss: 0.5109 - accuracy: 0.9565 - val_loss: 0.4937 - val_accuracy: 0.9620\n",
            "Epoch 25/30\n",
            "391/391 [==============================] - 1s 4ms/step - loss: 0.5090 - accuracy: 0.9570 - val_loss: 0.5221 - val_accuracy: 0.9560\n",
            "Epoch 26/30\n",
            "391/391 [==============================] - 1s 4ms/step - loss: 0.5065 - accuracy: 0.9566 - val_loss: 0.4841 - val_accuracy: 0.9662\n",
            "Epoch 27/30\n",
            "391/391 [==============================] - 2s 4ms/step - loss: 0.5030 - accuracy: 0.9583 - val_loss: 0.4799 - val_accuracy: 0.9644\n",
            "Epoch 28/30\n",
            "391/391 [==============================] - 1s 4ms/step - loss: 0.5003 - accuracy: 0.9581 - val_loss: 0.5666 - val_accuracy: 0.9402\n",
            "Epoch 29/30\n",
            "391/391 [==============================] - 2s 4ms/step - loss: 0.4981 - accuracy: 0.9580 - val_loss: 0.4920 - val_accuracy: 0.9646\n",
            "Epoch 30/30\n",
            "391/391 [==============================] - 2s 4ms/step - loss: 0.4944 - accuracy: 0.9595 - val_loss: 0.4704 - val_accuracy: 0.9693\n"
          ]
        }
      ]
    },
    {
      "cell_type": "markdown",
      "source": [
        "### Caso 4: Con Droput"
      ],
      "metadata": {
        "id": "OPVcbgcXCFRL"
      }
    },
    {
      "cell_type": "code",
      "source": [
        "network4 = crea_modelo(4)"
      ],
      "metadata": {
        "id": "5MVbUNX11Pgr",
        "colab": {
          "base_uri": "https://localhost:8080/"
        },
        "outputId": "3341f850-00d7-4e87-9e7c-83d35d0207bd"
      },
      "execution_count": 46,
      "outputs": [
        {
          "output_type": "stream",
          "name": "stdout",
          "text": [
            "Model: \"sequential_8\"\n",
            "_________________________________________________________________\n",
            " Layer (type)                Output Shape              Param #   \n",
            "=================================================================\n",
            " dense_16 (Dense)            (None, 512)               401920    \n",
            "                                                                 \n",
            " dropout (Dropout)           (None, 512)               0         \n",
            "                                                                 \n",
            " dense_17 (Dense)            (None, 10)                5130      \n",
            "                                                                 \n",
            "=================================================================\n",
            "Total params: 407,050\n",
            "Trainable params: 407,050\n",
            "Non-trainable params: 0\n",
            "_________________________________________________________________\n"
          ]
        }
      ]
    },
    {
      "cell_type": "code",
      "source": [
        "network4 = compila_modelo(network4)"
      ],
      "metadata": {
        "id": "pT-13IKI1UpW"
      },
      "execution_count": 47,
      "outputs": []
    },
    {
      "cell_type": "code",
      "source": [
        "historia4 = entrena_modelo(network4)"
      ],
      "metadata": {
        "id": "kNWidx1S1aCH",
        "colab": {
          "base_uri": "https://localhost:8080/"
        },
        "outputId": "ee9a6e27-29e8-4b43-a363-73cb563a6e14"
      },
      "execution_count": 48,
      "outputs": [
        {
          "output_type": "stream",
          "name": "stdout",
          "text": [
            "Epoch 1/30\n",
            "391/391 [==============================] - 2s 4ms/step - loss: 0.3488 - accuracy: 0.8976 - val_loss: 0.1628 - val_accuracy: 0.9550\n",
            "Epoch 2/30\n",
            "391/391 [==============================] - 2s 4ms/step - loss: 0.1695 - accuracy: 0.9497 - val_loss: 0.1127 - val_accuracy: 0.9679\n",
            "Epoch 3/30\n",
            "391/391 [==============================] - 1s 3ms/step - loss: 0.1288 - accuracy: 0.9614 - val_loss: 0.0980 - val_accuracy: 0.9718\n",
            "Epoch 4/30\n",
            "391/391 [==============================] - 2s 4ms/step - loss: 0.1084 - accuracy: 0.9679 - val_loss: 0.0921 - val_accuracy: 0.9747\n",
            "Epoch 5/30\n",
            "391/391 [==============================] - 1s 4ms/step - loss: 0.0938 - accuracy: 0.9720 - val_loss: 0.0844 - val_accuracy: 0.9758\n",
            "Epoch 6/30\n",
            "391/391 [==============================] - 1s 4ms/step - loss: 0.0835 - accuracy: 0.9749 - val_loss: 0.0798 - val_accuracy: 0.9763\n",
            "Epoch 7/30\n",
            "391/391 [==============================] - 2s 4ms/step - loss: 0.0754 - accuracy: 0.9774 - val_loss: 0.0833 - val_accuracy: 0.9770\n",
            "Epoch 8/30\n",
            "391/391 [==============================] - 1s 4ms/step - loss: 0.0672 - accuracy: 0.9790 - val_loss: 0.0803 - val_accuracy: 0.9782\n",
            "Epoch 9/30\n",
            "391/391 [==============================] - 1s 4ms/step - loss: 0.0628 - accuracy: 0.9809 - val_loss: 0.0755 - val_accuracy: 0.9809\n",
            "Epoch 10/30\n",
            "391/391 [==============================] - 2s 4ms/step - loss: 0.0608 - accuracy: 0.9819 - val_loss: 0.0795 - val_accuracy: 0.9782\n",
            "Epoch 11/30\n",
            "391/391 [==============================] - 2s 4ms/step - loss: 0.0555 - accuracy: 0.9826 - val_loss: 0.0800 - val_accuracy: 0.9788\n",
            "Epoch 12/30\n",
            "391/391 [==============================] - 1s 4ms/step - loss: 0.0515 - accuracy: 0.9840 - val_loss: 0.0753 - val_accuracy: 0.9804\n",
            "Epoch 13/30\n",
            "391/391 [==============================] - 1s 3ms/step - loss: 0.0483 - accuracy: 0.9853 - val_loss: 0.0833 - val_accuracy: 0.9804\n",
            "Epoch 14/30\n",
            "391/391 [==============================] - 2s 4ms/step - loss: 0.0473 - accuracy: 0.9858 - val_loss: 0.0815 - val_accuracy: 0.9805\n",
            "Epoch 15/30\n",
            "391/391 [==============================] - 1s 4ms/step - loss: 0.0446 - accuracy: 0.9861 - val_loss: 0.0763 - val_accuracy: 0.9813\n",
            "Epoch 16/30\n",
            "391/391 [==============================] - 2s 4ms/step - loss: 0.0446 - accuracy: 0.9864 - val_loss: 0.0850 - val_accuracy: 0.9800\n",
            "Epoch 17/30\n",
            "391/391 [==============================] - 1s 4ms/step - loss: 0.0415 - accuracy: 0.9874 - val_loss: 0.0817 - val_accuracy: 0.9810\n",
            "Epoch 18/30\n",
            "391/391 [==============================] - 1s 3ms/step - loss: 0.0383 - accuracy: 0.9881 - val_loss: 0.0796 - val_accuracy: 0.9819\n",
            "Epoch 19/30\n",
            "391/391 [==============================] - 1s 3ms/step - loss: 0.0374 - accuracy: 0.9883 - val_loss: 0.0828 - val_accuracy: 0.9813\n",
            "Epoch 20/30\n",
            "391/391 [==============================] - 2s 4ms/step - loss: 0.0362 - accuracy: 0.9892 - val_loss: 0.0833 - val_accuracy: 0.9820\n",
            "Epoch 21/30\n",
            "391/391 [==============================] - 2s 4ms/step - loss: 0.0344 - accuracy: 0.9894 - val_loss: 0.0863 - val_accuracy: 0.9805\n",
            "Epoch 22/30\n",
            "391/391 [==============================] - 2s 4ms/step - loss: 0.0329 - accuracy: 0.9896 - val_loss: 0.0857 - val_accuracy: 0.9815\n",
            "Epoch 23/30\n",
            "391/391 [==============================] - 2s 4ms/step - loss: 0.0314 - accuracy: 0.9908 - val_loss: 0.0916 - val_accuracy: 0.9812\n",
            "Epoch 24/30\n",
            "391/391 [==============================] - 2s 4ms/step - loss: 0.0298 - accuracy: 0.9906 - val_loss: 0.0923 - val_accuracy: 0.9817\n",
            "Epoch 25/30\n",
            "391/391 [==============================] - 1s 3ms/step - loss: 0.0298 - accuracy: 0.9914 - val_loss: 0.0914 - val_accuracy: 0.9826\n",
            "Epoch 26/30\n",
            "391/391 [==============================] - 2s 4ms/step - loss: 0.0304 - accuracy: 0.9910 - val_loss: 0.0970 - val_accuracy: 0.9820\n",
            "Epoch 27/30\n",
            "391/391 [==============================] - 1s 3ms/step - loss: 0.0297 - accuracy: 0.9910 - val_loss: 0.0950 - val_accuracy: 0.9819\n",
            "Epoch 28/30\n",
            "391/391 [==============================] - 1s 4ms/step - loss: 0.0280 - accuracy: 0.9914 - val_loss: 0.0966 - val_accuracy: 0.9827\n",
            "Epoch 29/30\n",
            "391/391 [==============================] - 2s 4ms/step - loss: 0.0271 - accuracy: 0.9919 - val_loss: 0.0975 - val_accuracy: 0.9823\n",
            "Epoch 30/30\n",
            "391/391 [==============================] - 1s 4ms/step - loss: 0.0262 - accuracy: 0.9915 - val_loss: 0.1071 - val_accuracy: 0.9819\n"
          ]
        }
      ]
    },
    {
      "cell_type": "markdown",
      "source": [
        "### Caso 5: Error de código de regularizador"
      ],
      "metadata": {
        "id": "e6rlKx2nCOgU"
      }
    },
    {
      "cell_type": "code",
      "source": [
        "network5 = crea_modelo(5)"
      ],
      "metadata": {
        "id": "SqGDm8VM1rwR",
        "outputId": "dcb27088-be86-43e7-d220-d5c3ec53bdff",
        "colab": {
          "base_uri": "https://localhost:8080/",
          "height": 328
        }
      },
      "execution_count": 49,
      "outputs": [
        {
          "output_type": "stream",
          "name": "stdout",
          "text": [
            "Error\n"
          ]
        },
        {
          "output_type": "error",
          "ename": "ValueError",
          "evalue": "ignored",
          "traceback": [
            "\u001b[0;31m---------------------------------------------------------------------------\u001b[0m",
            "\u001b[0;31mValueError\u001b[0m                                Traceback (most recent call last)",
            "\u001b[0;32m<ipython-input-49-23863d6b79b8>\u001b[0m in \u001b[0;36m<module>\u001b[0;34m\u001b[0m\n\u001b[0;32m----> 1\u001b[0;31m \u001b[0mnetwork5\u001b[0m \u001b[0;34m=\u001b[0m \u001b[0mcrea_modelo\u001b[0m\u001b[0;34m(\u001b[0m\u001b[0;36m5\u001b[0m\u001b[0;34m)\u001b[0m\u001b[0;34m\u001b[0m\u001b[0;34m\u001b[0m\u001b[0m\n\u001b[0m",
            "\u001b[0;32m<ipython-input-29-f3da95841da8>\u001b[0m in \u001b[0;36mcrea_modelo\u001b[0;34m(regularizador)\u001b[0m\n\u001b[1;32m     16\u001b[0m \u001b[0;34m\u001b[0m\u001b[0m\n\u001b[1;32m     17\u001b[0m   \u001b[0mmodelo\u001b[0m\u001b[0;34m.\u001b[0m\u001b[0madd\u001b[0m\u001b[0;34m(\u001b[0m\u001b[0mlayers\u001b[0m\u001b[0;34m.\u001b[0m\u001b[0mDense\u001b[0m\u001b[0;34m(\u001b[0m\u001b[0;36m10\u001b[0m\u001b[0;34m,\u001b[0m \u001b[0mactivation\u001b[0m\u001b[0;34m=\u001b[0m\u001b[0;34m'softmax'\u001b[0m\u001b[0;34m)\u001b[0m\u001b[0;34m)\u001b[0m\u001b[0;34m\u001b[0m\u001b[0;34m\u001b[0m\u001b[0m\n\u001b[0;32m---> 18\u001b[0;31m   \u001b[0mmodelo\u001b[0m\u001b[0;34m.\u001b[0m\u001b[0msummary\u001b[0m\u001b[0;34m(\u001b[0m\u001b[0;34m)\u001b[0m\u001b[0;34m\u001b[0m\u001b[0;34m\u001b[0m\u001b[0m\n\u001b[0m\u001b[1;32m     19\u001b[0m   \u001b[0;32mreturn\u001b[0m \u001b[0mmodelo\u001b[0m\u001b[0;34m\u001b[0m\u001b[0;34m\u001b[0m\u001b[0m\n\u001b[1;32m     20\u001b[0m \u001b[0;34m\u001b[0m\u001b[0m\n",
            "\u001b[0;32m/usr/local/lib/python3.7/dist-packages/keras/engine/training.py\u001b[0m in \u001b[0;36msummary\u001b[0;34m(self, line_length, positions, print_fn, expand_nested, show_trainable)\u001b[0m\n\u001b[1;32m   2868\u001b[0m     \u001b[0;32mif\u001b[0m \u001b[0;32mnot\u001b[0m \u001b[0mself\u001b[0m\u001b[0;34m.\u001b[0m\u001b[0mbuilt\u001b[0m\u001b[0;34m:\u001b[0m\u001b[0;34m\u001b[0m\u001b[0;34m\u001b[0m\u001b[0m\n\u001b[1;32m   2869\u001b[0m       raise ValueError(\n\u001b[0;32m-> 2870\u001b[0;31m           \u001b[0;34m'This model has not yet been built. '\u001b[0m\u001b[0;34m\u001b[0m\u001b[0;34m\u001b[0m\u001b[0m\n\u001b[0m\u001b[1;32m   2871\u001b[0m           \u001b[0;34m'Build the model first by calling `build()` or by calling '\u001b[0m\u001b[0;34m\u001b[0m\u001b[0;34m\u001b[0m\u001b[0m\n\u001b[1;32m   2872\u001b[0m           'the model on a batch of data.')\n",
            "\u001b[0;31mValueError\u001b[0m: This model has not yet been built. Build the model first by calling `build()` or by calling the model on a batch of data."
          ]
        }
      ]
    },
    {
      "cell_type": "markdown",
      "source": [
        "###GRÁFICAS"
      ],
      "metadata": {
        "id": "dIR9oce_t_2n"
      }
    },
    {
      "cell_type": "code",
      "source": [
        "pinta_perdida_entrenamiento_validacion(historia0)\n",
        "pinta_perdida_entrenamiento_validacion(historia1)\n",
        "pinta_perdida_entrenamiento_validacion(historia2)\n",
        "pinta_perdida_entrenamiento_validacion(historia3)\n",
        "pinta_perdida_entrenamiento_validacion(historia4)"
      ],
      "metadata": {
        "colab": {
          "base_uri": "https://localhost:8080/",
          "height": 1000
        },
        "id": "GIhtx40aXfPm",
        "outputId": "e5feefb3-a08c-496d-8e73-0562b25bc232"
      },
      "execution_count": 50,
      "outputs": [
        {
          "output_type": "display_data",
          "data": {
            "text/plain": [
              "<Figure size 432x288 with 1 Axes>"
            ],
            "image/png": "[encoded data removed]"
          },
          "metadata": {
            "needs_background": "light"
          }
        },
        {
          "output_type": "display_data",
          "data": {
            "text/plain": [
              "<Figure size 432x288 with 1 Axes>"
            ],
            "image/png": "[encoded data removed]"
          },
          "metadata": {
            "needs_background": "light"
          }
        },
        {
          "output_type": "display_data",
          "data": {
            "text/plain": [
              "<Figure size 432x288 with 1 Axes>"
            ],
            "image/png": "[encoded data removed]"
          },
          "metadata": {
            "needs_background": "light"
          }
        },
        {
          "output_type": "display_data",
          "data": {
            "text/plain": [
              "<Figure size 432x288 with 1 Axes>"
            ],
            "image/png": "[encoded data removed]"
          },
          "metadata": {
            "needs_background": "light"
          }
        },
        {
          "output_type": "display_data",
          "data": {
            "text/plain": [
              "<Figure size 432x288 with 1 Axes>"
            ],
            "image/png": "[encoded data removed]"
          },
          "metadata": {
            "needs_background": "light"
          }
        }
      ]
    },
    {
      "cell_type": "code",
      "source": [
        "pinta_precision_entrenamiento_validacion(historia0)\n",
        "pinta_precision_entrenamiento_validacion(historia1)\n",
        "pinta_precision_entrenamiento_validacion(historia2)\n",
        "pinta_precision_entrenamiento_validacion(historia3)\n",
        "pinta_precision_entrenamiento_validacion(historia4)"
      ],
      "metadata": {
        "colab": {
          "base_uri": "https://localhost:8080/",
          "height": 1000
        },
        "id": "vsJKge6yX5P5",
        "outputId": "17901ca0-b04d-4704-b7e7-33adedf9460c"
      },
      "execution_count": 51,
      "outputs": [
        {
          "output_type": "display_data",
          "data": {
            "text/plain": [
              "<Figure size 432x288 with 1 Axes>"
            ],
            "image/png": "[encoded data removed]"
          },
          "metadata": {
            "needs_background": "light"
          }
        },
        {
          "output_type": "display_data",
          "data": {
            "text/plain": [
              "<Figure size 432x288 with 1 Axes>"
            ],
            "image/png": "[encoded data removed]"
          },
          "metadata": {
            "needs_background": "light"
          }
        },
        {
          "output_type": "display_data",
          "data": {
            "text/plain": [
              "<Figure size 432x288 with 1 Axes>"
            ],
            "image/png": "[encoded data removed]"
          },
          "metadata": {
            "needs_background": "light"
          }
        },
        {
          "output_type": "display_data",
          "data": {
            "text/plain": [
              "<Figure size 432x288 with 1 Axes>"
            ],
            "image/png": "[encoded data removed]"
          },
          "metadata": {
            "needs_background": "light"
          }
        },
        {
          "output_type": "display_data",
          "data": {
            "text/plain": [
              "<Figure size 432x288 with 1 Axes>"
            ],
            "image/png": "[encoded data removed]"
          },
          "metadata": {
            "needs_background": "light"
          }
        }
      ]
    },
    {
      "cell_type": "markdown",
      "source": [
        "### CONCLUSIONES"
      ],
      "metadata": {
        "id": "IklUu29cCcVe"
      }
    },
    {
      "cell_type": "markdown",
      "source": [
        "Todos los modelos obtienen una precisión entorno al 96%, en cuánto a las pérdidas si hay diferencias entre unos modelos y otros. Entonces, el modelo que mejor resulta en este caso es el cuarto con regularizador dropout, es en el que hemos obtenido la mayor precisión consiguiendo un 99%. Por otro lado, el tercer modelo con el regularizador L2 consigue un 98% de precisión y le sigue el modelo con los dos regularizadores con un 96% de precisión."
      ],
      "metadata": {
        "id": "cB_OYjjaChzN"
      }
    }
  ]
}